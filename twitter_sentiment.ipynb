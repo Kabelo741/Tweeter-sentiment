{
  "nbformat": 4,
  "nbformat_minor": 0,
  "metadata": {
    "colab": {
      "name": "twitter sentiment.ipynb",
      "version": "0.3.2",
      "provenance": [],
      "include_colab_link": true
    },
    "kernelspec": {
      "display_name": "Python 3",
      "language": "python",
      "name": "python3"
    }
  },
  "cells": [
    {
      "cell_type": "markdown",
      "metadata": {
        "id": "view-in-github",
        "colab_type": "text"
      },
      "source": [
        "<a href=\"https://colab.research.google.com/github/Kabelo741/Tweeter-sentiment/blob/master/twitter_sentiment.ipynb\" target=\"_parent\"><img src=\"https://colab.research.google.com/assets/colab-badge.svg\" alt=\"Open In Colab\"/></a>"
      ]
    },
    {
      "metadata": {
        "id": "wKyWYz8Dyn4v",
        "colab_type": "text"
      },
      "cell_type": "markdown",
      "source": [
        "# NLP Tweeter Sentiment\n"
      ]
    },
    {
      "metadata": {
        "id": "NIxZkw_Tyn5S",
        "colab_type": "text"
      },
      "cell_type": "markdown",
      "source": [
        "The problem at hand is to analyse Twitter Airlines sentiment and the solution that will be applied is to build a Neural Language Processing model that will learn using labeled tweeter data to classify new tweets' sentiment its confidence score.\n"
      ]
    },
    {
      "metadata": {
        "id": "NPjDy9CJyn5u",
        "colab_type": "text"
      },
      "cell_type": "markdown",
      "source": [
        "The method that will be used is Transfer learning and a usefull technique of this methis is called ULMFiT. Transfer learning is when you pretrain a model on a separate dataset in order to teach the model to recognise the task it has to perform before finetuning it on the real dataset. ULMFiT is has three stages: \n",
        "\n",
        "a) General-domain LM pretraining  \n",
        "\n",
        "b) target task LM fine-tuning\n",
        "\n",
        "c) target task classifier fine-tuning"
      ]
    },
    {
      "metadata": {
        "id": "J8TJGQsfyn6o",
        "colab_type": "code",
        "colab": {}
      },
      "cell_type": "code",
      "source": [
        "## Importing Libraries\n",
        "import numpy as np\n",
        "import sklearn\n",
        "import keras\n",
        "import pandas as pd"
      ],
      "execution_count": 0,
      "outputs": []
    },
    {
      "metadata": {
        "id": "DKNt3CYUyn8t",
        "colab_type": "text"
      },
      "cell_type": "markdown",
      "source": [
        "Importing the pretraining dataset. I will use IMDB movie reviews that are in the keras.datset library. I chose to use the top 20 000 most used words which means the ML will be trained on a library of 20 000 words. The test split is set to 0.25 by default and cannot be changed which means the training set is 15 000 words. The load_data function returns a sequence of indexes instead of words in the library. The words are index acording to how offen they appear in the library.\n"
      ]
    },
    {
      "metadata": {
        "id": "B7Plf_2Ayn89",
        "colab_type": "code",
        "colab": {}
      },
      "cell_type": "code",
      "source": [
        "from keras.datasets import imdb\n",
        "(x_train, y_train),(x_test, y_test) = imdb.load_data(path='imbd.npz',num_words = 20000)\n",
        "\n"
      ],
      "execution_count": 0,
      "outputs": []
    },
    {
      "metadata": {
        "id": "Av-Z73yZyn-C",
        "colab_type": "text"
      },
      "cell_type": "markdown",
      "source": [
        "Here is one of the sequences of indexes"
      ]
    },
    {
      "metadata": {
        "id": "S6k3L6rUyn-N",
        "colab_type": "code",
        "outputId": "c52066d7-2270-40be-94c7-07ab2e36296e",
        "colab": {
          "base_uri": "https://localhost:8080/",
          "height": 55
        }
      },
      "cell_type": "code",
      "source": [
        "print(x_train[0])"
      ],
      "execution_count": 0,
      "outputs": [
        {
          "output_type": "stream",
          "text": [
            "[1, 14, 22, 16, 43, 530, 973, 1622, 1385, 65, 458, 4468, 66, 3941, 4, 173, 36, 256, 5, 25, 100, 43, 838, 112, 50, 670, 2, 9, 35, 480, 284, 5, 150, 4, 172, 112, 167, 2, 336, 385, 39, 4, 172, 4536, 1111, 17, 546, 38, 13, 447, 4, 192, 50, 16, 6, 147, 2025, 19, 14, 22, 4, 1920, 4613, 469, 4, 22, 71, 87, 12, 16, 43, 530, 38, 76, 15, 13, 1247, 4, 22, 17, 515, 17, 12, 16, 626, 18, 19193, 5, 62, 386, 12, 8, 316, 8, 106, 5, 4, 2223, 5244, 16, 480, 66, 3785, 33, 4, 130, 12, 16, 38, 619, 5, 25, 124, 51, 36, 135, 48, 25, 1415, 33, 6, 22, 12, 215, 28, 77, 52, 5, 14, 407, 16, 82, 10311, 8, 4, 107, 117, 5952, 15, 256, 4, 2, 7, 3766, 5, 723, 36, 71, 43, 530, 476, 26, 400, 317, 46, 7, 4, 12118, 1029, 13, 104, 88, 4, 381, 15, 297, 98, 32, 2071, 56, 26, 141, 6, 194, 7486, 18, 4, 226, 22, 21, 134, 476, 26, 480, 5, 144, 30, 5535, 18, 51, 36, 28, 224, 92, 25, 104, 4, 226, 65, 16, 38, 1334, 88, 12, 16, 283, 5, 16, 4472, 113, 103, 32, 15, 16, 5345, 19, 178, 32]\n"
          ],
          "name": "stdout"
        }
      ]
    },
    {
      "metadata": {
        "id": "2jGLamrZC_DG",
        "colab_type": "text"
      },
      "cell_type": "markdown",
      "source": [
        "Getting and cleaning the dataset. I cleaned the dataset to the best of my ability externally. I removed all columns except for the Sentiment and Text column because they are the only relavent ones.\n"
      ]
    },
    {
      "metadata": {
        "id": "6WSAsRl0C9a6",
        "colab_type": "code",
        "colab": {}
      },
      "cell_type": "code",
      "source": [
        "url = 'https://raw.githubusercontent.com/Kabelo741/Tweeter-sentiment/master/Cleaned_Tweets.csv'\n",
        "dataset = pd.read_csv(url, error_bad_lines=False, sep = ';')\n",
        "dataset.dropna()\n",
        "X = dataset.iloc[:,1:2].values\n",
        "y = dataset.iloc[:,0:1].values"
      ],
      "execution_count": 0,
      "outputs": []
    },
    {
      "metadata": {
        "id": "IwgF1x8WSyos",
        "colab_type": "code",
        "colab": {
          "base_uri": "https://localhost:8080/",
          "height": 1992
        },
        "outputId": "08fa848d-c7fc-4916-930e-fa7316b3a934"
      },
      "cell_type": "code",
      "source": [
        "dataset"
      ],
      "execution_count": 47,
      "outputs": [
        {
          "output_type": "execute_result",
          "data": {
            "text/html": [
              "<div>\n",
              "<style scoped>\n",
              "    .dataframe tbody tr th:only-of-type {\n",
              "        vertical-align: middle;\n",
              "    }\n",
              "\n",
              "    .dataframe tbody tr th {\n",
              "        vertical-align: top;\n",
              "    }\n",
              "\n",
              "    .dataframe thead th {\n",
              "        text-align: right;\n",
              "    }\n",
              "</style>\n",
              "<table border=\"1\" class=\"dataframe\">\n",
              "  <thead>\n",
              "    <tr style=\"text-align: right;\">\n",
              "      <th></th>\n",
              "      <th>airline_sentiment</th>\n",
              "      <th>text</th>\n",
              "    </tr>\n",
              "  </thead>\n",
              "  <tbody>\n",
              "    <tr>\n",
              "      <th>0</th>\n",
              "      <td>neutral</td>\n",
              "      <td>@VirginAmerica What @dhepburn said.</td>\n",
              "    </tr>\n",
              "    <tr>\n",
              "      <th>1</th>\n",
              "      <td>positive</td>\n",
              "      <td>@VirginAmerica plus you've added commercials t...</td>\n",
              "    </tr>\n",
              "    <tr>\n",
              "      <th>2</th>\n",
              "      <td>neutral</td>\n",
              "      <td>@VirginAmerica I didn't today... Must mean I n...</td>\n",
              "    </tr>\n",
              "    <tr>\n",
              "      <th>3</th>\n",
              "      <td>negative</td>\n",
              "      <td>@VirginAmerica it's really aggressive to blast...</td>\n",
              "    </tr>\n",
              "    <tr>\n",
              "      <th>4</th>\n",
              "      <td>negative</td>\n",
              "      <td>@VirginAmerica and it's a really big bad thing...</td>\n",
              "    </tr>\n",
              "    <tr>\n",
              "      <th>5</th>\n",
              "      <td>negative</td>\n",
              "      <td>@VirginAmerica seriously would pay $30 a fligh...</td>\n",
              "    </tr>\n",
              "    <tr>\n",
              "      <th>6</th>\n",
              "      <td>NaN</td>\n",
              "      <td>NaN</td>\n",
              "    </tr>\n",
              "    <tr>\n",
              "      <th>7</th>\n",
              "      <td>positive</td>\n",
              "      <td>@VirginAmerica yes, nearly every time I fly VX...</td>\n",
              "    </tr>\n",
              "    <tr>\n",
              "      <th>8</th>\n",
              "      <td>neutral</td>\n",
              "      <td>@VirginAmerica Really missed a prime opportuni...</td>\n",
              "    </tr>\n",
              "    <tr>\n",
              "      <th>9</th>\n",
              "      <td>positive</td>\n",
              "      <td>@virginamerica Well, I didn't…but NOW I DO! :-D</td>\n",
              "    </tr>\n",
              "    <tr>\n",
              "      <th>10</th>\n",
              "      <td>positive</td>\n",
              "      <td>@VirginAmerica it was amazing, and arrived an ...</td>\n",
              "    </tr>\n",
              "    <tr>\n",
              "      <th>11</th>\n",
              "      <td>neutral</td>\n",
              "      <td>@VirginAmerica did you know that suicide is th...</td>\n",
              "    </tr>\n",
              "    <tr>\n",
              "      <th>12</th>\n",
              "      <td>positive</td>\n",
              "      <td>@VirginAmerica I &amp;lt</td>\n",
              "    </tr>\n",
              "    <tr>\n",
              "      <th>13</th>\n",
              "      <td>positive</td>\n",
              "      <td>@VirginAmerica This is such a great deal! Alre...</td>\n",
              "    </tr>\n",
              "    <tr>\n",
              "      <th>14</th>\n",
              "      <td>positive</td>\n",
              "      <td>@VirginAmerica @virginmedia I'm flying your #f...</td>\n",
              "    </tr>\n",
              "    <tr>\n",
              "      <th>15</th>\n",
              "      <td>positive</td>\n",
              "      <td>@VirginAmerica Thanks!</td>\n",
              "    </tr>\n",
              "    <tr>\n",
              "      <th>16</th>\n",
              "      <td>negative</td>\n",
              "      <td>@VirginAmerica SFO-PDX schedule is still MIA.</td>\n",
              "    </tr>\n",
              "    <tr>\n",
              "      <th>17</th>\n",
              "      <td>positive</td>\n",
              "      <td>@VirginAmerica So excited for my first cross c...</td>\n",
              "    </tr>\n",
              "    <tr>\n",
              "      <th>18</th>\n",
              "      <td>negative</td>\n",
              "      <td>@VirginAmerica  I flew from NYC to SFO last we...</td>\n",
              "    </tr>\n",
              "    <tr>\n",
              "      <th>19</th>\n",
              "      <td>positive</td>\n",
              "      <td>I ❤️ flying @VirginAmerica. ☺️👍</td>\n",
              "    </tr>\n",
              "    <tr>\n",
              "      <th>20</th>\n",
              "      <td>positive</td>\n",
              "      <td>@VirginAmerica you know what would be amazingl...</td>\n",
              "    </tr>\n",
              "    <tr>\n",
              "      <th>21</th>\n",
              "      <td>negative</td>\n",
              "      <td>@VirginAmerica why are your first fares in May...</td>\n",
              "    </tr>\n",
              "    <tr>\n",
              "      <th>22</th>\n",
              "      <td>positive</td>\n",
              "      <td>@VirginAmerica I love this graphic. http://t.c...</td>\n",
              "    </tr>\n",
              "    <tr>\n",
              "      <th>23</th>\n",
              "      <td>positive</td>\n",
              "      <td>@VirginAmerica I love the hipster innovation. ...</td>\n",
              "    </tr>\n",
              "    <tr>\n",
              "      <th>24</th>\n",
              "      <td>neutral</td>\n",
              "      <td>@VirginAmerica will you be making BOS&amp;gt</td>\n",
              "    </tr>\n",
              "    <tr>\n",
              "      <th>25</th>\n",
              "      <td>negative</td>\n",
              "      <td>@VirginAmerica you guys messed up my seating.....</td>\n",
              "    </tr>\n",
              "    <tr>\n",
              "      <th>26</th>\n",
              "      <td>negative</td>\n",
              "      <td>@VirginAmerica status match program.  I applie...</td>\n",
              "    </tr>\n",
              "    <tr>\n",
              "      <th>27</th>\n",
              "      <td>negative</td>\n",
              "      <td>@VirginAmerica What happened 2 ur vegan food o...</td>\n",
              "    </tr>\n",
              "    <tr>\n",
              "      <th>28</th>\n",
              "      <td>neutral</td>\n",
              "      <td>@VirginAmerica do you miss me? Don't worry we'...</td>\n",
              "    </tr>\n",
              "    <tr>\n",
              "      <th>29</th>\n",
              "      <td>negative</td>\n",
              "      <td>@VirginAmerica amazing to me that we can't get...</td>\n",
              "    </tr>\n",
              "    <tr>\n",
              "      <th>...</th>\n",
              "      <td>...</td>\n",
              "      <td>...</td>\n",
              "    </tr>\n",
              "    <tr>\n",
              "      <th>14817</th>\n",
              "      <td>negative</td>\n",
              "      <td>@AmericanAir I understand the weather issue bu...</td>\n",
              "    </tr>\n",
              "    <tr>\n",
              "      <th>14818</th>\n",
              "      <td>neutral</td>\n",
              "      <td>@AmericanAir guarantee no retribution? If so, ...</td>\n",
              "    </tr>\n",
              "    <tr>\n",
              "      <th>14819</th>\n",
              "      <td>negative</td>\n",
              "      <td>@AmericanAir a friend is having flight Cancell...</td>\n",
              "    </tr>\n",
              "    <tr>\n",
              "      <th>14820</th>\n",
              "      <td>negative</td>\n",
              "      <td>@AmericanAir I used the \"call back\" feature wi...</td>\n",
              "    </tr>\n",
              "    <tr>\n",
              "      <th>14821</th>\n",
              "      <td>negative</td>\n",
              "      <td>@AmericanAir I need to be at work tomorrow at ...</td>\n",
              "    </tr>\n",
              "    <tr>\n",
              "      <th>14822</th>\n",
              "      <td>negative</td>\n",
              "      <td>@AmericanAir  ugh Dump us in dfw w/no luggage ...</td>\n",
              "    </tr>\n",
              "    <tr>\n",
              "      <th>14823</th>\n",
              "      <td>negative</td>\n",
              "      <td>@AmericanAir Cancelled Flights my flight, does...</td>\n",
              "    </tr>\n",
              "    <tr>\n",
              "      <th>14824</th>\n",
              "      <td>positive</td>\n",
              "      <td>@AmericanAir DMing you now! Big thanks.</td>\n",
              "    </tr>\n",
              "    <tr>\n",
              "      <th>14825</th>\n",
              "      <td>negative</td>\n",
              "      <td>@AmericanAir 3078 is overweight so you pull 2 ...</td>\n",
              "    </tr>\n",
              "    <tr>\n",
              "      <th>14826</th>\n",
              "      <td>positive</td>\n",
              "      <td>@AmericanAir I love your company and your staf...</td>\n",
              "    </tr>\n",
              "    <tr>\n",
              "      <th>14827</th>\n",
              "      <td>negative</td>\n",
              "      <td>@AmericanAir I wait 2+ hrs for CS to call me b...</td>\n",
              "    </tr>\n",
              "    <tr>\n",
              "      <th>14828</th>\n",
              "      <td>negative</td>\n",
              "      <td>@AmericanAir I've been on hold for 55 mins abo...</td>\n",
              "    </tr>\n",
              "    <tr>\n",
              "      <th>14829</th>\n",
              "      <td>negative</td>\n",
              "      <td>I just need a place to sleep when I land witho...</td>\n",
              "    </tr>\n",
              "    <tr>\n",
              "      <th>14830</th>\n",
              "      <td>positive</td>\n",
              "      <td>@AmericanAir Love the new planes for the JFK-L...</td>\n",
              "    </tr>\n",
              "    <tr>\n",
              "      <th>14831</th>\n",
              "      <td>negative</td>\n",
              "      <td>@AmericanAir Call me Chairman, or call me Emer...</td>\n",
              "    </tr>\n",
              "    <tr>\n",
              "      <th>14832</th>\n",
              "      <td>positive</td>\n",
              "      <td>@AmericanAir Flight 236 was great. Fantastic c...</td>\n",
              "    </tr>\n",
              "    <tr>\n",
              "      <th>14833</th>\n",
              "      <td>negative</td>\n",
              "      <td>@AmericanAir Flight 953 NYC-Buenos Aires has b...</td>\n",
              "    </tr>\n",
              "    <tr>\n",
              "      <th>14834</th>\n",
              "      <td>negative</td>\n",
              "      <td>@AmericanAir Flight Cancelled Flightled, can't...</td>\n",
              "    </tr>\n",
              "    <tr>\n",
              "      <th>14835</th>\n",
              "      <td>positive</td>\n",
              "      <td>Thank you. “@AmericanAir: @jlhalldc Customer R...</td>\n",
              "    </tr>\n",
              "    <tr>\n",
              "      <th>14836</th>\n",
              "      <td>negative</td>\n",
              "      <td>@AmericanAir How do I change my flight if the ...</td>\n",
              "    </tr>\n",
              "    <tr>\n",
              "      <th>14837</th>\n",
              "      <td>positive</td>\n",
              "      <td>@AmericanAir Thanks! He is.</td>\n",
              "    </tr>\n",
              "    <tr>\n",
              "      <th>14838</th>\n",
              "      <td>negative</td>\n",
              "      <td>@AmericanAir thx for nothing on getting us out...</td>\n",
              "    </tr>\n",
              "    <tr>\n",
              "      <th>14839</th>\n",
              "      <td>neutral</td>\n",
              "      <td>“@AmericanAir: @TilleyMonsta George, that does...</td>\n",
              "    </tr>\n",
              "    <tr>\n",
              "      <th>14840</th>\n",
              "      <td>negative</td>\n",
              "      <td>@AmericanAir my flight was Cancelled Flightled...</td>\n",
              "    </tr>\n",
              "    <tr>\n",
              "      <th>14841</th>\n",
              "      <td>negative</td>\n",
              "      <td>@AmericanAir right on cue with the delays👌</td>\n",
              "    </tr>\n",
              "    <tr>\n",
              "      <th>14842</th>\n",
              "      <td>positive</td>\n",
              "      <td>@AmericanAir thank you we got on a different f...</td>\n",
              "    </tr>\n",
              "    <tr>\n",
              "      <th>14843</th>\n",
              "      <td>negative</td>\n",
              "      <td>@AmericanAir leaving over 20 minutes Late Flig...</td>\n",
              "    </tr>\n",
              "    <tr>\n",
              "      <th>14844</th>\n",
              "      <td>neutral</td>\n",
              "      <td>@AmericanAir Please bring American Airlines to...</td>\n",
              "    </tr>\n",
              "    <tr>\n",
              "      <th>14845</th>\n",
              "      <td>negative</td>\n",
              "      <td>@AmericanAir you have my money, you change my ...</td>\n",
              "    </tr>\n",
              "    <tr>\n",
              "      <th>14846</th>\n",
              "      <td>neutral</td>\n",
              "      <td>@AmericanAir we have 8 ppl so we need 2 know h...</td>\n",
              "    </tr>\n",
              "  </tbody>\n",
              "</table>\n",
              "<p>14847 rows × 2 columns</p>\n",
              "</div>"
            ],
            "text/plain": [
              "      airline_sentiment                                               text\n",
              "0               neutral                @VirginAmerica What @dhepburn said.\n",
              "1              positive  @VirginAmerica plus you've added commercials t...\n",
              "2               neutral  @VirginAmerica I didn't today... Must mean I n...\n",
              "3              negative  @VirginAmerica it's really aggressive to blast...\n",
              "4              negative  @VirginAmerica and it's a really big bad thing...\n",
              "5              negative  @VirginAmerica seriously would pay $30 a fligh...\n",
              "6                   NaN                                                NaN\n",
              "7              positive  @VirginAmerica yes, nearly every time I fly VX...\n",
              "8               neutral  @VirginAmerica Really missed a prime opportuni...\n",
              "9              positive    @virginamerica Well, I didn't…but NOW I DO! :-D\n",
              "10             positive  @VirginAmerica it was amazing, and arrived an ...\n",
              "11              neutral  @VirginAmerica did you know that suicide is th...\n",
              "12             positive                               @VirginAmerica I &lt\n",
              "13             positive  @VirginAmerica This is such a great deal! Alre...\n",
              "14             positive  @VirginAmerica @virginmedia I'm flying your #f...\n",
              "15             positive                             @VirginAmerica Thanks!\n",
              "16             negative      @VirginAmerica SFO-PDX schedule is still MIA.\n",
              "17             positive  @VirginAmerica So excited for my first cross c...\n",
              "18             negative  @VirginAmerica  I flew from NYC to SFO last we...\n",
              "19             positive                    I ❤️ flying @VirginAmerica. ☺️👍\n",
              "20             positive  @VirginAmerica you know what would be amazingl...\n",
              "21             negative  @VirginAmerica why are your first fares in May...\n",
              "22             positive  @VirginAmerica I love this graphic. http://t.c...\n",
              "23             positive  @VirginAmerica I love the hipster innovation. ...\n",
              "24              neutral           @VirginAmerica will you be making BOS&gt\n",
              "25             negative  @VirginAmerica you guys messed up my seating.....\n",
              "26             negative  @VirginAmerica status match program.  I applie...\n",
              "27             negative  @VirginAmerica What happened 2 ur vegan food o...\n",
              "28              neutral  @VirginAmerica do you miss me? Don't worry we'...\n",
              "29             negative  @VirginAmerica amazing to me that we can't get...\n",
              "...                 ...                                                ...\n",
              "14817          negative  @AmericanAir I understand the weather issue bu...\n",
              "14818           neutral  @AmericanAir guarantee no retribution? If so, ...\n",
              "14819          negative  @AmericanAir a friend is having flight Cancell...\n",
              "14820          negative  @AmericanAir I used the \"call back\" feature wi...\n",
              "14821          negative  @AmericanAir I need to be at work tomorrow at ...\n",
              "14822          negative  @AmericanAir  ugh Dump us in dfw w/no luggage ...\n",
              "14823          negative  @AmericanAir Cancelled Flights my flight, does...\n",
              "14824          positive            @AmericanAir DMing you now! Big thanks.\n",
              "14825          negative  @AmericanAir 3078 is overweight so you pull 2 ...\n",
              "14826          positive  @AmericanAir I love your company and your staf...\n",
              "14827          negative  @AmericanAir I wait 2+ hrs for CS to call me b...\n",
              "14828          negative  @AmericanAir I've been on hold for 55 mins abo...\n",
              "14829          negative  I just need a place to sleep when I land witho...\n",
              "14830          positive  @AmericanAir Love the new planes for the JFK-L...\n",
              "14831          negative  @AmericanAir Call me Chairman, or call me Emer...\n",
              "14832          positive  @AmericanAir Flight 236 was great. Fantastic c...\n",
              "14833          negative  @AmericanAir Flight 953 NYC-Buenos Aires has b...\n",
              "14834          negative  @AmericanAir Flight Cancelled Flightled, can't...\n",
              "14835          positive  Thank you. “@AmericanAir: @jlhalldc Customer R...\n",
              "14836          negative  @AmericanAir How do I change my flight if the ...\n",
              "14837          positive                        @AmericanAir Thanks! He is.\n",
              "14838          negative  @AmericanAir thx for nothing on getting us out...\n",
              "14839           neutral  “@AmericanAir: @TilleyMonsta George, that does...\n",
              "14840          negative  @AmericanAir my flight was Cancelled Flightled...\n",
              "14841          negative         @AmericanAir right on cue with the delays👌\n",
              "14842          positive  @AmericanAir thank you we got on a different f...\n",
              "14843          negative  @AmericanAir leaving over 20 minutes Late Flig...\n",
              "14844           neutral  @AmericanAir Please bring American Airlines to...\n",
              "14845          negative  @AmericanAir you have my money, you change my ...\n",
              "14846           neutral  @AmericanAir we have 8 ppl so we need 2 know h...\n",
              "\n",
              "[14847 rows x 2 columns]"
            ]
          },
          "metadata": {
            "tags": []
          },
          "execution_count": 47
        }
      ]
    },
    {
      "metadata": {
        "id": "lGleUwvDhtxp",
        "colab_type": "code",
        "colab": {
          "base_uri": "https://localhost:8080/",
          "height": 146
        },
        "outputId": "5b3d1e31-53aa-43f1-cc31-9bd3812b1ef1"
      },
      "cell_type": "code",
      "source": [
        "y"
      ],
      "execution_count": 45,
      "outputs": [
        {
          "output_type": "execute_result",
          "data": {
            "text/plain": [
              "array([['neutral'],\n",
              "       ['positive'],\n",
              "       ['neutral'],\n",
              "       ...,\n",
              "       ['neutral'],\n",
              "       ['negative'],\n",
              "       ['neutral']], dtype=object)"
            ]
          },
          "metadata": {
            "tags": []
          },
          "execution_count": 45
        }
      ]
    },
    {
      "metadata": {
        "id": "Z9xZtUJ_cymv",
        "colab_type": "text"
      },
      "cell_type": "markdown",
      "source": [
        "# Preprocessing the data"
      ]
    },
    {
      "metadata": {
        "id": "L4E6ewIug3y2",
        "colab_type": "text"
      },
      "cell_type": "markdown",
      "source": [
        "Taking care of catagorical variables"
      ]
    },
    {
      "metadata": {
        "id": "2n2ALl8TcmIa",
        "colab_type": "code",
        "colab": {}
      },
      "cell_type": "code",
      "source": [
        "from sklearn.preprocessing import LabelEncoder\n",
        "\n",
        "encoder = LabelEncoder()\n",
        "y = encoder.fit_transform(y.astype(str))\n",
        "y = y.reshape(-1,1)\n",
        "\n",
        "from sklearn.preprocessing import OneHotEncoder\n",
        "\n",
        "hot = OneHotEncoder(handle_unknown='ignore')\n",
        "y = hot.fit_transform(y).toarray()"
      ],
      "execution_count": 0,
      "outputs": []
    },
    {
      "metadata": {
        "id": "lVOijqUZiW--",
        "colab_type": "code",
        "colab": {
          "base_uri": "https://localhost:8080/",
          "height": 146
        },
        "outputId": "a129fce9-7efd-4325-cbce-80061cd489b4"
      },
      "cell_type": "code",
      "source": [
        "y"
      ],
      "execution_count": 55,
      "outputs": [
        {
          "output_type": "execute_result",
          "data": {
            "text/plain": [
              "array([[0., 0., 0., ..., 0., 0., 0.],\n",
              "       [0., 0., 0., ..., 0., 0., 0.],\n",
              "       [0., 0., 0., ..., 0., 0., 0.],\n",
              "       ...,\n",
              "       [0., 0., 0., ..., 0., 0., 0.],\n",
              "       [0., 0., 0., ..., 0., 0., 0.],\n",
              "       [0., 0., 0., ..., 0., 0., 0.]])"
            ]
          },
          "metadata": {
            "tags": []
          },
          "execution_count": 55
        }
      ]
    },
    {
      "metadata": {
        "id": "CpMR3GO0iWr9",
        "colab_type": "code",
        "colab": {}
      },
      "cell_type": "code",
      "source": [
        ""
      ],
      "execution_count": 0,
      "outputs": []
    },
    {
      "metadata": {
        "id": "KtK9jiNayn_Y",
        "colab_type": "text"
      },
      "cell_type": "markdown",
      "source": [
        "# Building the archetecture\n"
      ]
    },
    {
      "metadata": {
        "id": "nYbpo5D_mlUd",
        "colab_type": "text"
      },
      "cell_type": "markdown",
      "source": [
        "Importing libraries"
      ]
    },
    {
      "metadata": {
        "id": "swKK-76nmg2F",
        "colab_type": "code",
        "colab": {}
      },
      "cell_type": "code",
      "source": [
        "from keras.models import Sequential\n",
        "from keras.layers import LSTM\n",
        "from keras.layers import Dense\n",
        "from keras.layers import Dropout"
      ],
      "execution_count": 0,
      "outputs": []
    },
    {
      "metadata": {
        "id": "rul1fv0qooP2",
        "colab_type": "text"
      },
      "cell_type": "markdown",
      "source": [
        "Initialising the RNN"
      ]
    },
    {
      "metadata": {
        "id": "yWVh0ARRn8Za",
        "colab_type": "code",
        "colab": {}
      },
      "cell_type": "code",
      "source": [
        "classifier = Sequential()"
      ],
      "execution_count": 0,
      "outputs": []
    },
    {
      "metadata": {
        "id": "7R_jMDDHpCVu",
        "colab_type": "text"
      },
      "cell_type": "markdown",
      "source": [
        "Adding layers"
      ]
    },
    {
      "metadata": {
        "id": "qQZg3DFJou_P",
        "colab_type": "code",
        "colab": {}
      },
      "cell_type": "code",
      "source": [
        "classifier.add(LSTM(units=50, return_sequences=True, input_shape = x_train.shape))\n",
        "classifier.add(LSTM(units=50, return_sequences=True)\n",
        "classifier.add(LSTM(units=50, return_sequences=True)\n",
        "classifier.add(Dense(units=50, activation = 'relu'))\n",
        "\n"
      ],
      "execution_count": 0,
      "outputs": []
    }
  ]
}